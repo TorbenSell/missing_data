{
 "cells": [
  {
   "cell_type": "markdown",
   "id": "8fc3133b",
   "metadata": {},
   "source": [
    "### Functions implemented \n",
    "\n",
    "Two imputation methods can be called, both require only the training data and the observations patterns thereof as inputs, they return an imputed data set of the same size as X_train. The first one imputes with a constant (default is $0$ unless specified otherwise by the user), the second one with the mean of all observed variables.\n",
    "```python\n",
    "def constant_impute(X_train, O_train, c=0)\n",
    "def mean_impute(X_train, O_train)\n",
    "```\n"
   ]
  },
  {
   "cell_type": "code",
   "execution_count": null,
   "id": "c7e1c184",
   "metadata": {},
   "outputs": [],
   "source": [
    "\"\"\"\n",
    "Imputation methods\n",
    "\"\"\"\n",
    "\n",
    "def constant_impute(X_train, O_train, c=0):\n",
    "    X_imputed = np.zeros((N_train,d))\n",
    "    X_imputed += X_train\n",
    "    for it in range(N_train):\n",
    "        for i in range(d):\n",
    "            if O_train[it,i]==0:\n",
    "                X_imputed[it,i] = c\n",
    "    return X_imputed\n",
    "\n",
    "def mean_impute(X_train, O_train):\n",
    "    X_imputed = np.zeros((N_train,d))\n",
    "    X_imputed += X_train\n",
    "    \n",
    "    means = np.zeros(d)\n",
    "    for i in range(d):\n",
    "        for it in range(N_train):\n",
    "            if O_train[it,i]==1:\n",
    "                means[i] += X_train[it,i]\n",
    "        if np.sum(O_train[:,i])==0:\n",
    "            print('Error in mean impute')\n",
    "        means[i] = means[i]/np.sum(O_train[:,i])\n",
    "        \n",
    "    \n",
    "    for it in range(N_train):\n",
    "        for i in range(d):\n",
    "            if O_train[it,i]==0:\n",
    "                X_imputed[it,i] = means[i]\n",
    "    return X_imputed"
   ]
  }
 ],
 "metadata": {
  "kernelspec": {
   "display_name": "Python 3 (ipykernel)",
   "language": "python",
   "name": "python3"
  },
  "language_info": {
   "codemirror_mode": {
    "name": "ipython",
    "version": 3
   },
   "file_extension": ".py",
   "mimetype": "text/x-python",
   "name": "python",
   "nbconvert_exporter": "python",
   "pygments_lexer": "ipython3",
   "version": "3.10.13"
  }
 },
 "nbformat": 4,
 "nbformat_minor": 5
}
