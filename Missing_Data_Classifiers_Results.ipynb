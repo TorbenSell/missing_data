{
 "cells": [
  {
   "cell_type": "code",
   "execution_count": 1,
   "id": "4f823c18",
   "metadata": {
    "execution": {
     "iopub.execute_input": "2023-05-18T04:31:48.129031Z",
     "iopub.status.busy": "2023-05-18T04:31:48.128125Z",
     "iopub.status.idle": "2023-05-18T04:31:50.144281Z",
     "shell.execute_reply": "2023-05-18T04:31:50.144823Z"
    }
   },
   "outputs": [],
   "source": [
    "import numpy as np\n",
    "import seaborn as sns\n",
    "import matplotlib.pyplot as plt"
   ]
  },
  {
   "cell_type": "code",
   "execution_count": 2,
   "id": "4d2503a0",
   "metadata": {
    "execution": {
     "iopub.execute_input": "2023-05-18T04:31:50.149551Z",
     "iopub.status.busy": "2023-05-18T04:31:50.148832Z",
     "iopub.status.idle": "2023-05-18T04:31:50.155026Z",
     "shell.execute_reply": "2023-05-18T04:31:50.155695Z"
    }
   },
   "outputs": [
    {
     "name": "stdout",
     "output_type": "stream",
     "text": [
      "0.026\n",
      "0.122\n",
      "0.104\n"
     ]
    }
   ],
   "source": [
    "for j in range(1,4):\n",
    "    all_Bayes_risks = np.load('Ex'+str(j)+'_Bayes_risk.npy')\n",
    "    print(np.round(np.sum(all_Bayes_risks)/3,3))"
   ]
  },
  {
   "cell_type": "code",
   "execution_count": 3,
   "id": "55e1f1e5",
   "metadata": {
    "execution": {
     "iopub.execute_input": "2023-05-18T04:31:50.167504Z",
     "iopub.status.busy": "2023-05-18T04:31:50.166785Z",
     "iopub.status.idle": "2023-05-18T04:31:50.186137Z",
     "shell.execute_reply": "2023-05-18T04:31:50.186537Z"
    }
   },
   "outputs": [
    {
     "name": "stdout",
     "output_type": "stream",
     "text": [
      "\n",
      "\n",
      "SCENARIO  1\n",
      "\n",
      "Estimated Empirical Excess Risks (std), N=500:\n",
      "HAM: 0.636 (0.634,0.638)\n",
      "CC: 1.955 (1.952,1.958)\n",
      "CI+CC: 1.969 (1.967,1.971)\n",
      "MI+CC: 2.388 (2.386,2.39)\n",
      "OA: 0.534 (0.532,0.536)\n",
      "\n",
      "Estimated Empirical Excess Risks (std), N=1000:\n",
      "HAM: 0.368 (0.366,0.37)\n",
      "CC: 1.807 (1.805,1.809)\n",
      "CI+CC: 1.136 (1.134,1.138)\n",
      "MI+CC: 1.39 (1.388,1.392)\n",
      "OA: 0.313 (0.311,0.315)\n",
      "\n",
      "\n",
      "SCENARIO  2\n",
      "\n",
      "Estimated Empirical Excess Risks (std), N=500:\n",
      "HAM: 6.852 (6.848,6.856)\n",
      "CC: 13.156 (13.152,13.159)\n",
      "CI+CC: 8.897 (8.894,8.9)\n",
      "MI+CC: 11.69 (11.686,11.693)\n",
      "OA: 5.216 (5.212,5.219)\n",
      "\n",
      "Estimated Empirical Excess Risks (std), N=1000:\n",
      "HAM: 6.151 (6.147,6.155)\n",
      "CC: 13.312 (13.309,13.315)\n",
      "CI+CC: 8.549 (8.545,8.552)\n",
      "MI+CC: 11.505 (11.502,11.508)\n",
      "OA: 4.29 (4.286,4.294)\n",
      "\n",
      "\n",
      "SCENARIO  3\n",
      "\n",
      "Estimated Empirical Excess Risks (std), N=500:\n",
      "HAM: 5.424 (5.419,5.428)\n",
      "CC: 6.879 (6.874,6.883)\n",
      "CI+CC: 5.985 (5.981,5.988)\n",
      "MI+CC: 7.736 (7.731,7.74)\n",
      "OA: 3.547 (3.543,3.55)\n",
      "\n",
      "Estimated Empirical Excess Risks (std), N=1000:\n",
      "HAM: 3.37 (3.366,3.373)\n",
      "CC: 5.811 (5.806,5.815)\n",
      "CI+CC: 4.238 (4.235,4.241)\n",
      "MI+CC: 5.451 (5.447,5.454)\n",
      "OA: 2.102 (2.099,2.105)\n"
     ]
    }
   ],
   "source": [
    "''' Load accuracies from the three different settings '''\n",
    "all_accuracies = np.zeros((10,100))\n",
    "\n",
    "for j in range(1,4):\n",
    "    \n",
    "    print('\\n\\nSCENARIO ',j)\n",
    "    all_accuracies[0:2,:] = np.load('Ex'+str(j)+'_all_accuracies_cc_kNN.npy')\n",
    "    all_accuracies[2:4,:] = np.load('Ex'+str(j)+'_all_accuracies_mi_kNN.npy')\n",
    "    all_accuracies[4:6,:] = np.load('Ex'+str(j)+'_all_accuracies_ci_kNN.npy')\n",
    "    all_accuracies[6:8,:] = np.load('Ex'+str(j)+'_all_accuracies_oracle_HAM.npy')\n",
    "    all_accuracies[8:10,:] = np.load('Ex'+str(j)+'_all_accuracies_HAM.npy')\n",
    "    BR = np.load('Ex'+str(j)+'_Bayes_risk.npy')\n",
    "\n",
    "    for i in range(2):\n",
    "        print('\\nEstimated Empirical Excess Risks (std), N='+str(2**i*500)+':')\n",
    "        mean = (np.sum(1-all_accuracies[8+i])/100-BR)*100\n",
    "        std = 2*np.std(1-all_accuracies[8+i])/10\n",
    "        print('HAM: '+str(np.round(mean,3))+' ('+str(np.round(mean-std,3))+','+str(np.round(mean+std,3))+')')\n",
    "        mean = (np.sum(1-all_accuracies[0+i])/100-BR)*100\n",
    "        std = 2*np.std(1-all_accuracies[0+i])/10\n",
    "        print('CC: '+str(np.round(mean,3))+' ('+str(np.round(mean-std,3))+','+str(np.round(mean+std,3))+')')\n",
    "        mean = (np.sum(1-all_accuracies[4+i])/100-BR)*100\n",
    "        std = 2*np.std(1-all_accuracies[4+i])/10\n",
    "        print('CI+CC: '+str(np.round(mean,3))+' ('+str(np.round(mean-std,3))+','+str(np.round(mean+std,3))+')')\n",
    "        mean = (np.sum(1-all_accuracies[2+i])/100-BR)*100\n",
    "        std = 2*np.std(1-all_accuracies[2+i])/10\n",
    "        print('MI+CC: '+str(np.round(mean,3))+' ('+str(np.round(mean-std,3))+','+str(np.round(mean+std,3))+')')\n",
    "        mean = (np.sum(1-all_accuracies[6+i])/100-BR)*100\n",
    "        std = 2*np.std(1-all_accuracies[6+i])/10\n",
    "        print('OA: '+str(np.round(mean,3))+' ('+str(np.round(mean-std,3))+','+str(np.round(mean+std,3))+')')"
   ]
  },
  {
   "cell_type": "code",
   "execution_count": 4,
   "id": "4aa16cca",
   "metadata": {
    "execution": {
     "iopub.execute_input": "2023-05-18T04:31:50.194828Z",
     "iopub.status.busy": "2023-05-18T04:31:50.194078Z",
     "iopub.status.idle": "2023-05-18T04:31:50.204438Z",
     "shell.execute_reply": "2023-05-18T04:31:50.205108Z"
    }
   },
   "outputs": [
    {
     "name": "stdout",
     "output_type": "stream",
     "text": [
      "\n",
      "\n",
      "SCENARIO  1\n",
      "\n",
      "Estimated Empirical Excess Risks (std), N=1000:\n",
      "HAM: 0.1 (0.098,0.102)\n",
      "CC: 0.99 (0.988,0.992)\n",
      "OA: 0.096 (0.094,0.098)\n",
      "\n",
      "\n",
      "SCENARIO  2\n",
      "\n",
      "Estimated Empirical Excess Risks (std), N=1000:\n",
      "HAM: 4.914 (4.91,4.917)\n",
      "CC: 8.745 (8.742,8.748)\n",
      "OA: 3.601 (3.597,3.604)\n",
      "\n",
      "\n",
      "SCENARIO  3\n",
      "\n",
      "Estimated Empirical Excess Risks (std), N=1000:\n",
      "HAM: 2.434 (2.431,2.437)\n",
      "CC: 4.496 (4.493,4.499)\n",
      "OA: 2.112 (2.109,2.115)\n"
     ]
    }
   ],
   "source": [
    "''' Load accuracies from the three different settings '''\n",
    "all_accuracies = np.zeros((3,100))\n",
    "\n",
    "for j in range(1,4):\n",
    "    \n",
    "    print('\\n\\nSCENARIO ',j)\n",
    "    all_accuracies[0,:] = np.load('Ex'+str(j)+'_no_missingness_all_accuracies_cc_kNN.npy')\n",
    "    all_accuracies[1,:] = np.load('Ex'+str(j)+'_no_missingness_all_accuracies_oracle_HAM.npy')\n",
    "    all_accuracies[2,:] = np.load('Ex'+str(j)+'_no_missingness_all_accuracies_HAM.npy')\n",
    "    BR = np.load('Ex'+str(j)+'_no_missingness_Bayes_risk.npy')\n",
    "\n",
    "    print('\\nEstimated Empirical Excess Risks (std), N='+str(1000)+':')\n",
    "    mean = (np.sum(1-all_accuracies[2])/100-BR)*100\n",
    "    std = 2*np.std(1-all_accuracies[2])/10\n",
    "    print('HAM: '+str(np.round(mean,3))+' ('+str(np.round(mean-std,3))+','+str(np.round(mean+std,3))+')')\n",
    "    mean = (np.sum(1-all_accuracies[0])/100-BR)*100\n",
    "    std = 2*np.std(1-all_accuracies[0])/10\n",
    "    print('CC: '+str(np.round(mean,3))+' ('+str(np.round(mean-std,3))+','+str(np.round(mean+std,3))+')')\n",
    "    mean = (np.sum(1-all_accuracies[1])/100-BR)*100\n",
    "    std = 2*np.std(1-all_accuracies[1])/10\n",
    "    print('OA: '+str(np.round(mean,3))+' ('+str(np.round(mean-std,3))+','+str(np.round(mean+std,3))+')')"
   ]
  },
  {
   "cell_type": "code",
   "execution_count": 5,
   "id": "75601a52",
   "metadata": {
    "execution": {
     "iopub.execute_input": "2023-05-18T04:31:50.305198Z",
     "iopub.status.busy": "2023-05-18T04:31:50.250331Z",
     "iopub.status.idle": "2023-05-18T04:31:51.279067Z",
     "shell.execute_reply": "2023-05-18T04:31:51.279462Z"
    }
   },
   "outputs": [
    {
     "data": {
      "image/png": "[encoded data removed]",
      "text/plain": [
       "<Figure size 864x432 with 6 Axes>"
      ]
     },
     "metadata": {
      "needs_background": "light"
     },
     "output_type": "display_data"
    }
   ],
   "source": [
    "all_accuracies = np.zeros((10,100))\n",
    "\n",
    "plt.rcParams[\"figure.figsize\"] = [12,6]\n",
    "\n",
    "fig, ((ax1, ax2), (ax3, ax4), (ax5, ax6)) = plt.subplots(3, 2)\n",
    "\n",
    "'''  EXAMPLE 1 '''\n",
    "all_accuracies[0:2,:] = np.load('Ex'+str(1)+'_all_accuracies_cc_kNN.npy')\n",
    "all_accuracies[2:4,:] = np.load('Ex'+str(1)+'_all_accuracies_mi_kNN.npy')\n",
    "all_accuracies[4:6,:] = np.load('Ex'+str(1)+'_all_accuracies_ci_kNN.npy')\n",
    "all_accuracies[6:8,:] = np.load('Ex'+str(1)+'_all_accuracies_oracle_HAM.npy')\n",
    "all_accuracies[8:10,:] = np.load('Ex'+str(1)+'_all_accuracies_HAM.npy')\n",
    "BR = np.load('Ex'+str(1)+'_Bayes_risk.npy')\n",
    "\n",
    "HAM_er = (1-all_accuracies[8,:])*100\n",
    "CC_er = (1-all_accuracies[0,:])*100\n",
    "CI_er = (1-all_accuracies[4,:])*100\n",
    "MI_er = (1-all_accuracies[2,:])*100\n",
    "OA_er = (1-all_accuracies[6,:])*100\n",
    "all_excess_risks = [CC_er,CI_er,MI_er,HAM_er,OA_er]\n",
    "sns.boxplot( data=all_excess_risks, ax=ax1)\n",
    "\n",
    "HAM_er = (1-all_accuracies[9,:])*100\n",
    "CC_er = (1-all_accuracies[1,:])*100\n",
    "CI_er = (1-all_accuracies[5,:])*100\n",
    "MI_er = (1-all_accuracies[3,:])*100\n",
    "OA_er = (1-all_accuracies[7,:])*100\n",
    "all_excess_risks = [CC_er,CI_er,MI_er,HAM_er,OA_er]\n",
    "sns.boxplot( data=all_excess_risks, ax=ax2)\n",
    "\n",
    "ax1.set_ylim(BR*100-2,BR*100+6)\n",
    "ax2.set_ylim(BR*100-2,BR*100+6)\n",
    "ax1.axhline(y=BR*100, color='r', linestyle='-')\n",
    "ax2.axhline(y=BR*100, color='r', linestyle='-')\n",
    "ax1.set_xticklabels(['','','','',''])\n",
    "ax2.set_xticklabels(['','','','',''])\n",
    "\n",
    "\n",
    "''' EXAMPLE 2 '''\n",
    "all_accuracies[0:2,:] = np.load('Ex'+str(2)+'_all_accuracies_cc_kNN.npy')\n",
    "all_accuracies[2:4,:] = np.load('Ex'+str(2)+'_all_accuracies_mi_kNN.npy')\n",
    "all_accuracies[4:6,:] = np.load('Ex'+str(2)+'_all_accuracies_ci_kNN.npy')\n",
    "all_accuracies[6:8,:] = np.load('Ex'+str(2)+'_all_accuracies_oracle_HAM.npy')\n",
    "all_accuracies[8:10,:] = np.load('Ex'+str(2)+'_all_accuracies_HAM.npy')\n",
    "BR = np.load('Ex'+str(2)+'_Bayes_risk.npy')\n",
    "\n",
    "HAM_er = (1-all_accuracies[8,:])*100\n",
    "CC_er = (1-all_accuracies[0,:])*100\n",
    "CI_er = (1-all_accuracies[4,:])*100\n",
    "MI_er = (1-all_accuracies[2,:])*100\n",
    "OA_er = (1-all_accuracies[6,:])*100\n",
    "all_excess_risks = [[],CI_er,MI_er,HAM_er,OA_er]\n",
    "sns.boxplot( data=all_excess_risks, ax=ax3)\n",
    "\n",
    "HAM_er = (1-all_accuracies[9,:])*100\n",
    "CC_er = (1-all_accuracies[1,:])*100\n",
    "CI_er = (1-all_accuracies[5,:])*100\n",
    "MI_er = (1-all_accuracies[3,:])*100\n",
    "OA_er = (1-all_accuracies[7,:])*100\n",
    "all_excess_risks = [[],CI_er,MI_er,HAM_er,OA_er]\n",
    "sns.boxplot( data=all_excess_risks, ax=ax4)\n",
    "\n",
    "ax3.set_ylim(BR*100-1,BR*100+18)\n",
    "ax4.set_ylim(BR*100-1,BR*100+18)\n",
    "ax3.axhline(y=BR*100, color='r', linestyle='-')\n",
    "ax4.axhline(y=BR*100, color='r', linestyle='-')\n",
    "ax3.set_xticklabels(['','','','',''])\n",
    "ax4.set_xticklabels(['','','','',''])\n",
    "\n",
    "ax3.text(-0.1, 40, 'N/A', fontdict=None)\n",
    "ax4.text(-0.1, 40, 'N/A', fontdict=None)\n",
    "\n",
    "\n",
    "''' EXAMPLE 3 '''\n",
    "all_accuracies[0:2,:] = np.load('Ex'+str(3)+'_all_accuracies_cc_kNN.npy')\n",
    "all_accuracies[2:4,:] = np.load('Ex'+str(3)+'_all_accuracies_mi_kNN.npy')\n",
    "all_accuracies[4:6,:] = np.load('Ex'+str(3)+'_all_accuracies_ci_kNN.npy')\n",
    "all_accuracies[6:8,:] = np.load('Ex'+str(3)+'_all_accuracies_oracle_HAM.npy')\n",
    "all_accuracies[8:10,:] = np.load('Ex'+str(3)+'_all_accuracies_HAM.npy')\n",
    "BR = np.load('Ex'+str(3)+'_Bayes_risk.npy')\n",
    "\n",
    "HAM_er = (1-all_accuracies[8,:])*100\n",
    "CC_er = (1-all_accuracies[0,:])*100\n",
    "CI_er = (1-all_accuracies[4,:])*100\n",
    "MI_er = (1-all_accuracies[2,:])*100\n",
    "OA_er = (1-all_accuracies[6,:])*100\n",
    "all_excess_risks = [CC_er,CI_er,MI_er,HAM_er,OA_er]\n",
    "sns.boxplot( data=all_excess_risks, ax=ax5)\n",
    "\n",
    "HAM_er = (1-all_accuracies[9,:])*100\n",
    "CC_er = (1-all_accuracies[1,:])*100\n",
    "CI_er = (1-all_accuracies[5,:])*100\n",
    "MI_er = (1-all_accuracies[3,:])*100\n",
    "OA_er = (1-all_accuracies[7,:])*100\n",
    "all_excess_risks = [CC_er,CI_er,MI_er,HAM_er,OA_er]\n",
    "sns.boxplot( data=all_excess_risks, ax=ax6)\n",
    "\n",
    "ax5.set_ylim(BR*100-2,BR*100+14)\n",
    "ax6.set_ylim(BR*100-2,BR*100+14)\n",
    "ax5.axhline(y=BR*100, color='r', linestyle='-')\n",
    "ax6.axhline(y=BR*100, color='r', linestyle='-')\n",
    "ax5.set_xticklabels(['CC','ZI','MI','HAM','Oracle'])\n",
    "ax6.set_xticklabels(['CC','ZI','MI','HAM','Oracle'])\n",
    "\n",
    "plt.savefig('results.pdf', dpi = 100,bbox_inches='tight')\n",
    "plt.show()"
   ]
  },
  {
   "cell_type": "code",
   "execution_count": 6,
   "id": "f0f538be",
   "metadata": {
    "execution": {
     "iopub.execute_input": "2023-05-18T04:31:51.338531Z",
     "iopub.status.busy": "2023-05-18T04:31:51.314723Z",
     "iopub.status.idle": "2023-05-18T04:31:51.841403Z",
     "shell.execute_reply": "2023-05-18T04:31:51.842000Z"
    }
   },
   "outputs": [
    {
     "data": {
      "image/png": "[encoded data removed]",
      "text/plain": [
       "<Figure size 648x144 with 3 Axes>"
      ]
     },
     "metadata": {
      "needs_background": "light"
     },
     "output_type": "display_data"
    }
   ],
   "source": [
    "all_accuracies = np.zeros((3,100))\n",
    "\n",
    "plt.rcParams[\"figure.figsize\"] = [9,2]\n",
    "\n",
    "fig, ((ax1, ax2, ax3)) = plt.subplots(1,3)\n",
    "\n",
    "'''  EXAMPLE 1 '''\n",
    "all_accuracies[0,:] = np.load('Ex'+str(1)+'_no_missingness_all_accuracies_cc_kNN.npy')\n",
    "all_accuracies[1,:] = np.load('Ex'+str(1)+'_no_missingness_all_accuracies_oracle_HAM.npy')\n",
    "all_accuracies[2,:] = np.load('Ex'+str(1)+'_no_missingness_all_accuracies_HAM.npy')\n",
    "BR = np.load('Ex'+str(1)+'_Bayes_risk.npy')\n",
    "\n",
    "HAM_er = (1-all_accuracies[2,:])*100\n",
    "CC_er = (1-all_accuracies[0,:])*100\n",
    "OA_er = (1-all_accuracies[1,:])*100\n",
    "all_excess_risks = [CC_er,HAM_er,OA_er]\n",
    "sns.boxplot( data=all_excess_risks, ax=ax1)\n",
    "\n",
    "ax1.axhline(y=BR*100, color='r', linestyle='-')\n",
    "ax1.set_xticklabels(['CC','HAM','Oracle'])\n",
    "\n",
    "\n",
    "''' EXAMPLE 2 '''\n",
    "all_accuracies[0,:] = np.load('Ex'+str(2)+'_no_missingness_all_accuracies_cc_kNN.npy')\n",
    "all_accuracies[1,:] = np.load('Ex'+str(2)+'_no_missingness_all_accuracies_oracle_HAM.npy')\n",
    "all_accuracies[2,:] = np.load('Ex'+str(2)+'_no_missingness_all_accuracies_HAM.npy')\n",
    "BR = np.load('Ex'+str(2)+'_Bayes_risk.npy')\n",
    "\n",
    "HAM_er = (1-all_accuracies[2,:])*100\n",
    "CC_er = (1-all_accuracies[0,:])*100\n",
    "OA_er = (1-all_accuracies[1,:])*100\n",
    "all_excess_risks = [CC_er,HAM_er,OA_er]\n",
    "sns.boxplot( data=all_excess_risks, ax=ax2)\n",
    "\n",
    "ax2.axhline(y=BR*100, color='r', linestyle='-')\n",
    "ax2.set_xticklabels(['CC','HAM','Oracle'])\n",
    "\n",
    "\n",
    "''' EXAMPLE 3 '''\n",
    "all_accuracies[0,:] = np.load('Ex'+str(3)+'_no_missingness_all_accuracies_cc_kNN.npy')\n",
    "all_accuracies[1,:] = np.load('Ex'+str(3)+'_no_missingness_all_accuracies_oracle_HAM.npy')\n",
    "all_accuracies[2,:] = np.load('Ex'+str(3)+'_no_missingness_all_accuracies_HAM.npy')\n",
    "BR = np.load('Ex'+str(3)+'_no_missingness_Bayes_risk.npy')\n",
    "\n",
    "HAM_er = (1-all_accuracies[2,:])*100\n",
    "CC_er = (1-all_accuracies[0,:])*100\n",
    "OA_er = (1-all_accuracies[1,:])*100\n",
    "all_excess_risks = [CC_er,HAM_er,OA_er]\n",
    "sns.boxplot( data=all_excess_risks, ax=ax3)\n",
    "\n",
    "ax3.axhline(y=BR*100, color='r', linestyle='-')\n",
    "ax3.set_xticklabels(['CC','HAM','Oracle'])\n",
    "\n",
    "\n",
    "plt.savefig('results_no_missingness.pdf', dpi = 100,bbox_inches='tight')\n",
    "plt.show()"
   ]
  },
  {
   "cell_type": "code",
   "execution_count": null,
   "id": "7397ce18",
   "metadata": {},
   "outputs": [],
   "source": []
  }
 ],
 "metadata": {
  "kernelspec": {
   "display_name": "Python 3",
   "language": "python",
   "name": "python3"
  },
  "language_info": {
   "codemirror_mode": {
    "name": "ipython",
    "version": 3
   },
   "file_extension": ".py",
   "mimetype": "text/x-python",
   "name": "python",
   "nbconvert_exporter": "python",
   "pygments_lexer": "ipython3",
   "version": "3.9.5"
  }
 },
 "nbformat": 4,
 "nbformat_minor": 5
}
